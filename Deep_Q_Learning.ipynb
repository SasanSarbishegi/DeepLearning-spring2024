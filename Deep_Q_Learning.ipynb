{
  "cells": [
    {
      "cell_type": "markdown",
      "id": "50719fc4-e0dc-4783-8720-bf973172d7a3",
      "metadata": {
        "id": "50719fc4-e0dc-4783-8720-bf973172d7a3"
      },
      "source": [
        "We implement an Agent in an online learning environment, meaning that the agent has no initial memory of the rewards in each state. We go through the environment based on our policy and store the observed rewards and corresponding state in the memory of the agent\n",
        "\n",
        "Finally, we utilize the Agent in a practical Maze Solving problem. The agent is prompted to iterate the maze from a defined starting point to an ending point, maximing the profit from the total route."
      ]
    },
    {
      "cell_type": "code",
      "execution_count": null,
      "id": "a128a4f2-b79c-4a19-8cef-881940edd941",
      "metadata": {
        "id": "a128a4f2-b79c-4a19-8cef-881940edd941"
      },
      "outputs": [],
      "source": [
        "import torch as T\n",
        "import torch.nn as nn\n",
        "import torch.nn.functional as F\n",
        "import torch.optim as optim\n",
        "import numpy as np\n",
        "import matplotlib.pyplot as plt"
      ]
    },
    {
      "cell_type": "code",
      "execution_count": null,
      "id": "b1a399fd-abb4-40bc-8a30-eadc2ac090a9",
      "metadata": {
        "id": "b1a399fd-abb4-40bc-8a30-eadc2ac090a9"
      },
      "outputs": [],
      "source": [
        "class DeepQNetwork(nn.Module):\n",
        "    def __init__(self, lr, input_dims, fc1_dims, fc2_dims,\n",
        "                 n_actions):\n",
        "        super(DeepQNetwork, self).__init__()\n",
        "        self.input_dims = input_dims\n",
        "        self.fc1_dims = fc1_dims\n",
        "        self.fc2_dims = fc2_dims\n",
        "        self.n_actions = n_actions\n",
        "        self.fc1 = nn.Linear(*self.input_dims,self.fc1_dims)\n",
        "        self.fc2 = nn.Linear(self.fc1_dims, self.fc2_dims)\n",
        "        self.fc3 = nn.Linear(self.fc2_dims, self.n_actions)\n",
        "\n",
        "        self.optimizer = optim.Adam(self.parameters(), lr=lr)\n",
        "        self.loss = nn.MSELoss()\n",
        "        self.device = T.device('cuda:0' if T.cuda.is_available() else 'cpu')\n",
        "        self.to(self.device)\n",
        "\n",
        "    def forward(self, state):\n",
        "        # Calculate the forward pass. Use Proper non-linear activation function between the linear layers\n",
        "        x=F.relu(self.fc1(state))\n",
        "        x=F.relu(self.fc2(x))\n",
        "        actions = self.fc3(x)\n",
        "\n",
        "        return actions"
      ]
    },
    {
      "cell_type": "code",
      "execution_count": null,
      "id": "8d7244ea-6e78-4715-9520-e6e4e20ab376",
      "metadata": {
        "id": "8d7244ea-6e78-4715-9520-e6e4e20ab376"
      },
      "outputs": [],
      "source": [
        "class Agent:\n",
        "    def __init__(self, gamma, epsilon, lr, input_dims, batch_size, n_actions,\n",
        "                 max_mem_size=100000, eps_end=0.2, eps_dec=5e-4):\n",
        "        self.gamma = gamma\n",
        "        self.epsilon = epsilon\n",
        "        self.eps_min = eps_end\n",
        "        self.eps_dec = eps_dec\n",
        "        self.lr = lr\n",
        "        self.action_space = [i for i in range(n_actions)]\n",
        "        self.mem_size = max_mem_size\n",
        "        self.batch_size = batch_size\n",
        "        self.mem_cntr = 0\n",
        "        self.iter_cntr = 0\n",
        "\n",
        "        # Create an instance of te Deep Q network with 256 neurons in each of its hidden layers\n",
        "        self.Q_eval = DeepQNetwork(self.lr, n_actions=n_actions, input_dims=input_dims, fc1_dims=256, fc2_dims=256)\n",
        "        self.state_memory = np.zeros((self.mem_size, *input_dims), dtype=np.float32)\n",
        "        self.new_state_memory = np.zeros((self.mem_size, *input_dims), dtype=np.float32)\n",
        "        self.action_memory = np.zeros(self.mem_size, dtype=np.int32)\n",
        "        self.reward_memory = np.zeros(self.mem_size, dtype=np.float32)\n",
        "        self.terminal_memory = np.zeros(self.mem_size, dtype=np.bool_)\n",
        "\n",
        "\n",
        "    # Store one episode alongside its reward, state, next_state\n",
        "    def store_transition(self, state, action, reward, state_, terminal):\n",
        "        index = self.mem_cntr % self.mem_size\n",
        "        self.state_memory[index] = state\n",
        "        self.new_state_memory[index] = state_\n",
        "        self.reward_memory[index] = reward\n",
        "        self.action_memory[index] = action\n",
        "        self.terminal_memory[index] = terminal\n",
        "\n",
        "        self.mem_cntr += 1\n",
        "\n",
        "\n",
        "    # Choose the best action with probability (1 - epsilon), otherwise choose a random direction from the action space\n",
        "    # The best action is defined as the maximum output of the Deep Q Network\n",
        "    def choose_action(self, observation):\n",
        "        if np.random.random() > self.epsilon:\n",
        "          state= T.Tensor([observation]).to(self.Q_eval.device)\n",
        "          Q_val= self.Q_eval.forward(state)\n",
        "          action= T.argmax(Q_val).item()\n",
        "        else:\n",
        "          action= np.random.choice(self.action_space)\n",
        "\n",
        "        return action\n",
        "\n",
        "    # Train the Deep Q Network based on the new observations\n",
        "    # The network must learn the target Q values through regression\n",
        "    def learn(self):\n",
        "        # Simply ignore the training phase if there is not enough memory stored yet\n",
        "        if self.mem_cntr < self.batch_size:\n",
        "            return\n",
        "\n",
        "        self.Q_eval.optimizer.zero_grad()\n",
        "\n",
        "        # Choose a random batch of data from the memory\n",
        "        batch = np.random.choice(min(self.mem_cntr,self.mem_size),self.batch_size,replace=False )\n",
        "\n",
        "        state_batch = T.tensor(self.state_memory[batch]).to(self.Q_eval.device)\n",
        "        new_state_batch = T.tensor(\n",
        "                self.new_state_memory[batch]).to(self.Q_eval.device)\n",
        "        action_batch = self.action_memory[batch]\n",
        "        reward_batch = T.tensor(\n",
        "                self.reward_memory[batch]).to(self.Q_eval.device)\n",
        "        terminal_batch = T.tensor(\n",
        "                self.terminal_memory[batch]).to(self.Q_eval.device)\n",
        "\n",
        "        # Current state Q-value as predicted by the network\n",
        "        # Note to filter the matrix to only q-values corresponding to our \"action_batch\"\n",
        "        batch_i=np.arange(self.batch_size,dtype=np.int32)\n",
        "        q_eval = self.Q_eval.forward(state_batch)[batch_i,action_batch]\n",
        "\n",
        "        # Next state Q-value as predicted by the network for all possible next actions\n",
        "        q_next = self.Q_eval.forward(new_state_batch)\n",
        "        q_next[terminal_batch]=0.0\n",
        "\n",
        "        # The target Q-value of our current state with a discount factor of gamma\n",
        "        q_target = reward_batch + self.gamma * T.max(q_next, dim=1)[0]\n",
        "        # Make the network learn this target Q-value via a proper definitio of loss function\n",
        "        loss = self.Q_eval.loss(q_target, q_eval).to(self.Q_eval.device)\n",
        "        loss.backward()\n",
        "        self.Q_eval.optimizer.step()\n",
        "\n",
        "        self.iter_cntr += 1\n",
        "\n",
        "        # Reduce the epsilon by its decay factor it possible\n",
        "        if self.epsilon > self.eps_min:\n",
        "          self.epsilon = self.epsilon - self.eps_dec\n",
        "        else:\n",
        "          self.epsilon =self.eps_min"
      ]
    },
    {
      "cell_type": "code",
      "source": [
        "from google.colab import drive\n",
        "drive.mount('/content/drive')\n",
        "!cp /content/drive/MyDrive/maze.py /content/maze.py"
      ],
      "metadata": {
        "colab": {
          "base_uri": "https://localhost:8080/"
        },
        "id": "ZEj-pMaZnean",
        "outputId": "4df251ae-14c5-49a2-cb98-240528dda7be"
      },
      "id": "ZEj-pMaZnean",
      "execution_count": null,
      "outputs": [
        {
          "output_type": "stream",
          "name": "stdout",
          "text": [
            "Mounted at /content/drive\n"
          ]
        }
      ]
    },
    {
      "cell_type": "code",
      "source": [
        "from maze import MazeEnvironment\n",
        "import warnings\n",
        "warnings.filterwarnings('ignore')\n",
        "\n",
        "# Create a maze environment\n",
        "# You can create a new one or use the files stored in directory mazes to load a maze\n",
        "env = MazeEnvironment()"
      ],
      "metadata": {
        "id": "su7U9c8fcPJb"
      },
      "id": "su7U9c8fcPJb",
      "execution_count": null,
      "outputs": []
    },
    {
      "cell_type": "code",
      "execution_count": null,
      "id": "b2592342-df23-49be-9fee-c5ac5a1fbd56",
      "metadata": {
        "id": "b2592342-df23-49be-9fee-c5ac5a1fbd56",
        "outputId": "321d72f4-82be-4115-9cbb-65bedd20d1c7",
        "colab": {
          "base_uri": "https://localhost:8080/"
        }
      },
      "outputs": [
        {
          "output_type": "stream",
          "name": "stdout",
          "text": [
            "episode  1 score 6236.00 average score 6236.00 epsilon 0.52\n",
            "episode  2 score 7171.00 average score 6703.50 epsilon 0.20\n",
            "episode  3 score 2886.00 average score 5431.00 epsilon 0.20\n",
            "episode  4 score 5422.00 average score 5428.75 epsilon 0.20\n",
            "episode  5 score 6711.00 average score 5685.20 epsilon 0.20\n",
            "episode  6 score 9286.00 average score 6285.33 epsilon 0.20\n",
            "episode  7 score 11779.00 average score 7070.14 epsilon 0.20\n",
            "episode  8 score 11643.00 average score 7641.75 epsilon 0.20\n",
            "episode  9 score 19077.00 average score 8912.33 epsilon 0.20\n",
            "episode  10 score 8540.00 average score 8875.10 epsilon 0.20\n",
            "episode  11 score 20912.00 average score 9969.36 epsilon 0.20\n",
            "episode  12 score 19843.00 average score 10792.17 epsilon 0.20\n",
            "episode  13 score 21456.00 average score 11612.46 epsilon 0.20\n",
            "episode  14 score 22698.00 average score 12404.29 epsilon 0.20\n",
            "episode  15 score 18899.00 average score 12837.27 epsilon 0.20\n",
            "episode  16 score 21922.00 average score 13405.06 epsilon 0.20\n",
            "episode  17 score 23066.00 average score 13973.35 epsilon 0.20\n",
            "episode  18 score 21526.00 average score 14392.94 epsilon 0.20\n",
            "episode  19 score 22487.00 average score 14818.95 epsilon 0.20\n",
            "episode  20 score 22207.00 average score 15188.35 epsilon 0.20\n",
            "episode  21 score 23951.00 average score 15605.62 epsilon 0.20\n",
            "episode  22 score 21830.00 average score 15888.55 epsilon 0.20\n",
            "episode  23 score 23448.00 average score 16217.22 epsilon 0.20\n",
            "episode  24 score 23799.00 average score 16533.12 epsilon 0.20\n",
            "episode  25 score 23140.00 average score 16797.40 epsilon 0.20\n",
            "episode  26 score 23838.00 average score 17068.19 epsilon 0.20\n",
            "episode  27 score 25077.00 average score 17364.81 epsilon 0.20\n",
            "episode  28 score 24956.00 average score 17635.93 epsilon 0.20\n",
            "episode  29 score 23920.00 average score 17852.62 epsilon 0.20\n",
            "episode  30 score 25881.00 average score 18120.23 epsilon 0.20\n",
            "episode  31 score 26542.00 average score 18391.90 epsilon 0.20\n",
            "episode  32 score 26104.00 average score 18632.91 epsilon 0.20\n",
            "episode  33 score 26282.00 average score 18864.70 epsilon 0.20\n",
            "episode  34 score 26678.00 average score 19094.50 epsilon 0.20\n",
            "episode  35 score 27202.00 average score 19326.14 epsilon 0.20\n",
            "episode  36 score 27600.00 average score 19555.97 epsilon 0.20\n",
            "episode  37 score 27198.00 average score 19762.51 epsilon 0.20\n",
            "episode  38 score 26779.00 average score 19947.16 epsilon 0.20\n",
            "episode  39 score 27465.00 average score 20139.92 epsilon 0.20\n",
            "episode  40 score 27811.00 average score 20331.70 epsilon 0.20\n",
            "episode  41 score 27932.00 average score 20517.07 epsilon 0.20\n",
            "episode  42 score 27929.00 average score 20693.55 epsilon 0.20\n",
            "episode  43 score 27277.00 average score 20846.65 epsilon 0.20\n",
            "episode  44 score 27475.00 average score 20997.30 epsilon 0.20\n",
            "episode  45 score 27876.00 average score 21150.16 epsilon 0.20\n",
            "episode  46 score 27798.00 average score 21294.67 epsilon 0.20\n",
            "episode  47 score 27245.00 average score 21421.28 epsilon 0.20\n",
            "episode  48 score 26652.00 average score 21530.25 epsilon 0.20\n",
            "episode  49 score 27278.00 average score 21647.55 epsilon 0.20\n",
            "episode  50 score 27385.00 average score 21762.30 epsilon 0.20\n",
            "episode  51 score 26908.00 average score 21863.20 epsilon 0.20\n",
            "episode  52 score 27625.00 average score 21974.00 epsilon 0.20\n",
            "episode  53 score 26817.00 average score 22065.38 epsilon 0.20\n",
            "episode  54 score 27117.00 average score 22158.93 epsilon 0.20\n",
            "episode  55 score 27903.00 average score 22263.36 epsilon 0.20\n",
            "episode  56 score 27391.00 average score 22354.93 epsilon 0.20\n",
            "episode  57 score 27550.00 average score 22446.07 epsilon 0.20\n",
            "episode  58 score 27306.00 average score 22529.86 epsilon 0.20\n",
            "episode  59 score 28427.00 average score 22629.81 epsilon 0.20\n",
            "episode  60 score 28074.00 average score 22720.55 epsilon 0.20\n"
          ]
        }
      ],
      "source": [
        "agent = Agent(gamma=0.99, epsilon=1.0, batch_size=30, n_actions=4, eps_end=0.2, input_dims=[2], lr=0.001)\n",
        "scores = []\n",
        "n_games = 60\n",
        "\n",
        "for i in range(n_games):\n",
        "    score = 0\n",
        "    done = False\n",
        "    observation = env.reset()\n",
        "    counter = 0\n",
        "    while not done:\n",
        "        counter += 1\n",
        "        # If performed 1000 moves and didn't finish the maze, reset the environment\n",
        "        if (counter == 1000):\n",
        "            #counter = 0\n",
        "            #score = 0\n",
        "            observation = env.reset()\n",
        "            break\n",
        "\n",
        "        # Make the agent choose an action\n",
        "        action = agent.choose_action(observation)\n",
        "\n",
        "        # Retrieve the reward and next_state from the envirinment\n",
        "        observation_, reward, done = env.step(action)\n",
        "\n",
        "        score += reward\n",
        "\n",
        "        # Store the current episode in the memory\n",
        "        agent.store_transition(observation, action, reward, observation_, done)  #??!!\n",
        "\n",
        "        # Learn the current episode\n",
        "        agent.learn()\n",
        "\n",
        "        # Change the next state to the current state\n",
        "        observation = observation_\n",
        "\n",
        "    scores.append(score)\n",
        "\n",
        "    avg_score = np.mean(scores[-100:])\n",
        "\n",
        "    print('episode ', i+1, 'score %.2f' % score, 'average score %.2f' % avg_score, 'epsilon %.2f' % agent.epsilon)"
      ]
    },
    {
      "cell_type": "code",
      "source": [
        "x=[i+1 for i in range(n_games)]\n",
        "plt.plot(x,scores)\n",
        "plt.ylabel('scores') ; plt.xlabel('number of games'); plt.grid()"
      ],
      "metadata": {
        "colab": {
          "base_uri": "https://localhost:8080/",
          "height": 449
        },
        "id": "2iE6TQ1euHcG",
        "outputId": "bca7c667-326b-486d-de25-8cf3eaf4fc21"
      },
      "id": "2iE6TQ1euHcG",
      "execution_count": null,
      "outputs": [
        {
          "output_type": "display_data",
          "data": {
            "text/plain": [
              "<Figure size 640x480 with 1 Axes>"
            ],
            "image/png": "[encoded data removed]"
          },
          "metadata": {}
        }
      ]
    },
    {
      "cell_type": "markdown",
      "source": [
        "**parameters:**\\\n",
        "batch_size=30 (Initially, I set the batch size to 10, but the score changes were too abrupt and somewhat stochastic. Therefore, I increased the batch size to make the changes smoother)\\\n",
        "epsilon=1 ; epsilon decay= $0.5*10^{-3}$ ; epsilon end=0.2 ;\\\n",
        "gamma=0.99 ; learning rate(lr)=$10^{-3}$ & number of games=60\\\n",
        "As we can see in the plot above, after approximately 35 iterations of playing the game, the agent will achieve a high score(25000)."
      ],
      "metadata": {
        "id": "qoY6PpQE5FX7"
      },
      "id": "qoY6PpQE5FX7"
    },
    {
      "cell_type": "markdown",
      "id": "c52ae54d-3c4d-4d3d-82de-6d9a7ec5efff",
      "metadata": {
        "id": "c52ae54d-3c4d-4d3d-82de-6d9a7ec5efff"
      },
      "source": [
        "## Report"
      ]
    },
    {
      "cell_type": "markdown",
      "id": "c970a058-17f5-470f-b402-1e4cfc59c32b",
      "metadata": {
        "id": "c970a058-17f5-470f-b402-1e4cfc59c32b"
      },
      "source": [
        "Try to manipulate constants such as batch_size, epsilon, gamma, .... Try to achieve the maximum score.\n",
        "\n",
        "Grading will not be based on the best scores. However, higher scores can bring bonus grade!\n",
        "\n",
        "Plot the incrementation of your score through n games and try to justify the patterns."
      ]
    }
  ],
  "metadata": {
    "kernelspec": {
      "display_name": "Python 3",
      "name": "python3"
    },
    "language_info": {
      "codemirror_mode": {
        "name": "ipython",
        "version": 3
      },
      "file_extension": ".py",
      "mimetype": "text/x-python",
      "name": "python",
      "nbconvert_exporter": "python",
      "pygments_lexer": "ipython3",
      "version": "3.9.13"
    },
    "colab": {
      "provenance": [],
      "gpuType": "T4"
    },
    "accelerator": "GPU"
  },
  "nbformat": 4,
  "nbformat_minor": 5
}